{
 "cells": [
  {
   "attachments": {},
   "cell_type": "markdown",
   "metadata": {},
   "source": [
    "<div class=\"alert alert-info\" role=\"alert\">\n",
    "    <center><h1 style=\"color:red;\"><strong><font color = red>Hands-on Prescriptive Analytics:<br>Extending Business Analytics to the Next Level</font></strong></h1></center><br>\n",
    "</div>\n",
    "<br><br>\n",
    "Instructor:\n",
    "\n",
    "> Walter R. Paczkowski, Ph.D.\n",
    "\n",
    "Affliations:\n",
    "> [Data Analytics Corp.](http://www.dataanalyticscorp.com/)\n",
    "\n",
    "Contact and Other Information:\n",
    ">* [Email Instructor With Questions](mailto:walt@dataanalyticscorp.com)\n",
    ">* [Learn About the Instructor](http://www.dataanalyticscorp.com/)\n",
    ">* [See the Instructor's LinkedIn Profile](https://www.linkedin.com/in/walter-paczkowski-a17a1511/)\n",
    ">* [See Instructor's Books](https://www.amazon.com/-/e/B084KK4SF5?ref_=pe_1724030_132998070)\n",
    " "
   ]
  },
  {
   "cell_type": "markdown",
   "metadata": {},
   "source": [
    "<div class=\"alert alert-info\" role=\"alert\">\n",
    "    \n",
    "<font color = black>Slide Set-Up\n",
    "-----------------------------\n",
    "    \n",
    "This code sets up the presentation slides."
   ]
  },
  {
   "cell_type": "code",
   "execution_count": null,
   "metadata": {},
   "outputs": [],
   "source": [
    "##\n",
    "## Slide code\n",
    "##\n",
    "from IPython.display import Image\n",
    "def slide(what):\n",
    "    display( Image( \"../slides/PS_Page_\" + what + \".png\", width = 50, height = 50, retina = True ) )"
   ]
  },
  {
   "cell_type": "markdown",
   "metadata": {},
   "source": [
    "<div class=\"alert alert-info\" role=\"alert\">\n",
    "    \n",
    "<font color = black>Contents\n",
    "-----------------------------\n",
    " \n",
    "</div>"
   ]
  },
  {
   "cell_type": "markdown",
   "metadata": {},
   "source": [
    "1. [**_Helpful Background_**](#Helpful-Background)\n",
    "    >1. [About this Notebook](#About-this-Notebook)\n",
    "    >2. [Helpful Online Tutorials](#Helpful-Online-Tutorials)\n",
    "    >3. [Helpful Must-Read Book](#Helpful-Must-Read-Book)\n",
    "2. [**_Lesson I: Introduction to Prescriptive Methods_**](#Lesson-I:-Introduction-to-Prescriptive-Methods)\n",
    "3. [**_Lesson II: Introduction to Stochastic Simulations_**](#Lesson-II:-Introduction-to-Stochastic-Simulations)\n",
    "    >1. [II.1 Digression: Random Numbers](#II.1-Digression:-Random-Numbers)\n",
    "        1. [Exercise II.1](#Exercise-II.1)\n",
    "        2. [Exercise II.2](#Exercise-II.2)\n",
    "        3. [Exercise II.3](#Exercise-II.3)\n",
    "        4. [Exercise II.4](#Exercise-II.4)\n",
    "    >2. [II.2 Simulation Example 1: Dice Toss](#II.2-Simulation-Example-1:-Dice-Toss)\n",
    "    >3. [II.3 Simulation Example 2: Random Walk](#II.3-Simulation-Example-2:-Random-Walk)\n",
    "    >4. [II.4 Simulation Example 3: M/M/1 Queueing System](#II.4-Simulation-Example-3:-M/M/1-Queueing-System)\n",
    "4. [**_Lesson III: Introduction to Mathematical Programming_**](#Lesson-III:-Introduction-to-Mathematical-Programming)\n",
    "    >1. [III.1 Linear Programming Example 1: Basic Set-up](#III.1-Linear-Programming-Example-1:-Basic-Set-up)\n",
    "    >2. [III.2 Linear Programming Example 2: Different Bounds](#III.2-Linear-Programming-Example-2:-Different-Bounds)\n",
    "        1. [Exercise III.1](#Exercise-III.1)\n",
    "    >3. [III.3 Simulation and LP](#III.3-Simulation-and-LP)\n",
    "5. [**_Lesson IV: Introduction to Artificial Neural Networks_**](#Lesson-IV:-Introduction-to-Artificial-Neural-Networks)\n",
    "    >1. [IV.1 Example of an ANN](#IV.1-Example-of-an-ANN)\n",
    "        1. [Exercise IV.1](#Exercise-IV.1)\n",
    "7. [**_Lesson V: Summary and Wrap-up_**](#Lesson-V:-Summary-and-Wrap\\-up)\n",
    "7. [**_Contact Information_**](#Contact-Information)\n",
    "9. [**_Appendix_**](#Appendix)\n",
    "    >1. [Appendix I.1 Coin Toss Simulation](#Appendix-I.1-Coin-Toss-Simulation)\n",
    "10. [**_Exercise Solutions_**](#Exercise-Solutions)"
   ]
  },
  {
   "cell_type": "markdown",
   "metadata": {},
   "source": [
    "<div class=\"alert alert-info\" role=\"alert\">\n",
    "    \n",
    "<font color = black>Helpful Background\n",
    "---------------------------------------\n",
    "\n",
    "[Back to Contents](#Contents)    \n",
    "    \n",
    "</div>\n"
   ]
  },
  {
   "cell_type": "markdown",
   "metadata": {},
   "source": [
    "### About this Notebook\n",
    "\n",
    "[Back to Contents](#Contents)\n",
    "\n",
    "This notebook accompanies the PDF presentation\n",
    "\n",
    "> ***Hands-on Prescriptive Analytics: Extending Business Analytics to the Next Level***\n",
    "\n",
    "by Walter R. Paczkowski, Ph.D. (2021).  There is more content and commentary in this notebook than in the presentation deck.  Nonetheless, the two complement each other and so should be studied together.  Every effort has been made to use the same key slide titles in the presentation deck and this notebook which will help your studying.  For your convenience, most of the presentation deck slides have been incorporated into this notebook."
   ]
  },
  {
   "cell_type": "markdown",
   "metadata": {},
   "source": [
    "### Helpful Online Tutorials\n",
    "\n",
    "[Back to Contents](#Contents)\n",
    "\n",
    ">* <a href=\"http://docs.python.org/2/tutorial/\" target=\"_parent\">Python Tutorial</a>\n",
    ">* <a href=\"https://pandas.pydata.org/pandas-docs/stable/getting_started/tutorials.html\" target=\"_parent\">Pandas Tutorial</a>\n",
    ">* <a href=\"https://seaborn.pydata.org/tutorial.html\" target=\"_parent\">Seaborn Tutorial</a>\n",
    ">* <a href=\"https://www.statsmodels.org/stable/index.html\" target=\"_parent\">Statsmodels Tutorial</a>\n",
    "\n",
    "### Helpful Must-Read Book\n",
    "\n",
    "[Back to Contents](#Contents)\n",
    "\n",
    ">* <a href=\"https://www.amazon.com/gp/product/1491957662/ref=as_li_tl?ie=UTF8&tag=quantpytho-20&camp=1789&creative=9325&linkCode=as2&creativeASIN=1491957662&linkId=8c3bf87b221dbcd8f541f0db20d4da83\" target=\"_parent\">Main Pandas Go-to Book: </a> *Python for Data Analysis: Data Wrangling with Pandas, NumPy, and IPython* (2nd Edition) by Wes McKinney.\n",
    ">* <a href=\"https://www.amazon.com/MOXIC-Geometric-Children-Crawling-Anti-Slip/dp/3030870227/ref=sr_1_4?dchild=1&keywords=Walter+R.+Paczkowski&qid=1632495430&s=books&sr=1-4\" target =\"_parent\">Recommended Book: </a> *Business Analytics: Data Science for Business Problems* by Walter R. Paczkowski (Forthcoming, Springer, 2021).\n"
   ]
  },
  {
   "cell_type": "markdown",
   "metadata": {},
   "source": [
    "### Best Practices\n",
    "\n",
    "[Back to Contents](#Contents)\n",
    "\n",
    "Import packages upfront so they are all in one place.  This avoids wasting time searching to check if you loaded/installed them.  \n",
    "\n",
    "**Recommendation**:  Group packages by functionality."
   ]
  },
  {
   "cell_type": "code",
   "execution_count": null,
   "metadata": {},
   "outputs": [],
   "source": [
    "##\n",
    "## ===> Data Manipulation <===\n",
    "##\n",
    "import numpy as np\n",
    "import pandas as pd\n",
    "import math\n",
    "##\n",
    "## ===> Data Visualization <===\n",
    "##\n",
    "import matplotlib.pyplot as plt\n",
    "import seaborn as sns\n",
    "##\n",
    "## ===> Python Date/Time <===\n",
    "##\n",
    "from datetime import date, time, datetime\n",
    "from dateutil import parser\n",
    "##\n",
    "## ===> Random Number Generators <===\n",
    "##\n",
    "import random\n",
    "##\n",
    "## Log-Normal Distribution\n",
    "##\n",
    "from scipy.stats import lognorm\n",
    "##\n",
    "## ===> Linear Programming <===\n",
    "##\n",
    "from scipy.optimize import linprog\n",
    "##\n",
    "## ===> Artificial Neural Networks (ANNs) <===\n",
    "##\n",
    "from sklearn.neural_network import MLPClassifier\n",
    "from sklearn.datasets import make_classification\n",
    "from sklearn.model_selection import train_test_split\n"
   ]
  },
  {
   "cell_type": "markdown",
   "metadata": {},
   "source": [
    "Place any functions and default formats upfront in the *Best Practices* section."
   ]
  },
  {
   "cell_type": "code",
   "execution_count": null,
   "metadata": {},
   "outputs": [],
   "source": [
    "##\n",
    "## Default functions and formats\n",
    "##\n",
    "bold = '\\033[1m'\n",
    "normal = '\\033[0m'\n",
    "def boldprt( s ):\n",
    "    \"\"\"\n",
    "    Print text in bold and the return to normal.\n",
    "    \n",
    "    Args:\n",
    "        s = string.\n",
    "    \"\"\"\n",
    "    print( bold + s + normal )\n",
    "##"
   ]
  },
  {
   "cell_type": "markdown",
   "metadata": {},
   "source": [
    "Place *System Warnings* suppression in the *Best Practices* section."
   ]
  },
  {
   "cell_type": "code",
   "execution_count": null,
   "metadata": {},
   "outputs": [],
   "source": [
    "##\n",
    "## ===> Turn-off Python Warnings <===\n",
    "##\n",
    "import warnings\n",
    "warnings.filterwarnings(\"ignore\")"
   ]
  },
  {
   "cell_type": "markdown",
   "metadata": {},
   "source": [
    "<div class=\"alert alert-info\" role=\"alert\">\n",
    "    \n",
    "<font color = black>Lesson I: Introduction to Prescriptive Methods\n",
    "--------------------------------------\n",
    "\n",
    "[Back to Contents](#Contents)    \n",
    "    \n",
    "</div>"
   ]
  },
  {
   "cell_type": "code",
   "execution_count": null,
   "metadata": {},
   "outputs": [],
   "source": [
    "slide( '03' )"
   ]
  },
  {
   "cell_type": "code",
   "execution_count": null,
   "metadata": {},
   "outputs": [],
   "source": [
    "slide( '05' )"
   ]
  },
  {
   "cell_type": "code",
   "execution_count": null,
   "metadata": {},
   "outputs": [],
   "source": [
    "slide( '06' )"
   ]
  },
  {
   "cell_type": "code",
   "execution_count": null,
   "metadata": {},
   "outputs": [],
   "source": [
    "slide( '08' )"
   ]
  },
  {
   "cell_type": "code",
   "execution_count": null,
   "metadata": {},
   "outputs": [],
   "source": [
    "slide( '09' )"
   ]
  },
  {
   "cell_type": "code",
   "execution_count": null,
   "metadata": {},
   "outputs": [],
   "source": [
    "slide( '11' )"
   ]
  },
  {
   "cell_type": "code",
   "execution_count": null,
   "metadata": {},
   "outputs": [],
   "source": [
    "slide( '12' )"
   ]
  },
  {
   "cell_type": "code",
   "execution_count": null,
   "metadata": {},
   "outputs": [],
   "source": [
    "slide( '13' )"
   ]
  },
  {
   "cell_type": "code",
   "execution_count": null,
   "metadata": {},
   "outputs": [],
   "source": [
    "slide( '14' )"
   ]
  },
  {
   "cell_type": "code",
   "execution_count": null,
   "metadata": {},
   "outputs": [],
   "source": [
    "slide( '15' )"
   ]
  },
  {
   "cell_type": "code",
   "execution_count": null,
   "metadata": {},
   "outputs": [],
   "source": [
    "slide( '17' )"
   ]
  },
  {
   "cell_type": "code",
   "execution_count": null,
   "metadata": {},
   "outputs": [],
   "source": [
    "slide( '18' )"
   ]
  },
  {
   "cell_type": "markdown",
   "metadata": {},
   "source": [
    "<div class=\"alert alert-warning\" role=\"alert\">\n",
    "    <center><h1><strong><font color = black>Five Minute Break</font></center></h1></strong>\n",
    "</div>"
   ]
  },
  {
   "cell_type": "markdown",
   "metadata": {},
   "source": [
    "<div class=\"alert alert-info\" role=\"alert\">\n",
    "    \n",
    "<font color = black>Lesson II: Introduction to Stochastic Simulations\n",
    "--------------------------------------------------\n",
    "\n",
    "[Back to Contents](#Contents)    \n",
    "    \n",
    "</div>\n"
   ]
  },
  {
   "cell_type": "code",
   "execution_count": null,
   "metadata": {},
   "outputs": [],
   "source": [
    "slide( '21' )"
   ]
  },
  {
   "cell_type": "code",
   "execution_count": null,
   "metadata": {},
   "outputs": [],
   "source": [
    "slide( '22' )"
   ]
  },
  {
   "cell_type": "code",
   "execution_count": null,
   "metadata": {},
   "outputs": [],
   "source": [
    "slide( '24' )"
   ]
  },
  {
   "cell_type": "code",
   "execution_count": null,
   "metadata": {},
   "outputs": [],
   "source": [
    "slide( '25' )"
   ]
  },
  {
   "cell_type": "code",
   "execution_count": null,
   "metadata": {},
   "outputs": [],
   "source": [
    "slide( '27' )"
   ]
  },
  {
   "cell_type": "code",
   "execution_count": null,
   "metadata": {},
   "outputs": [],
   "source": [
    "slide( '29' )"
   ]
  },
  {
   "cell_type": "code",
   "execution_count": null,
   "metadata": {},
   "outputs": [],
   "source": [
    "slide( '30' )"
   ]
  },
  {
   "cell_type": "code",
   "execution_count": null,
   "metadata": {},
   "outputs": [],
   "source": [
    "slide( '32' )"
   ]
  },
  {
   "cell_type": "markdown",
   "metadata": {},
   "source": [
    "### II.1 Digression: Random Numbers\n",
    "\n",
    "[Back to Contents](#Contents)\n"
   ]
  },
  {
   "cell_type": "code",
   "execution_count": null,
   "metadata": {},
   "outputs": [],
   "source": [
    "slide( '34' )"
   ]
  },
  {
   "cell_type": "code",
   "execution_count": null,
   "metadata": {},
   "outputs": [],
   "source": [
    "slide( '35' )"
   ]
  },
  {
   "cell_type": "code",
   "execution_count": null,
   "metadata": {},
   "outputs": [],
   "source": [
    "slide( '36' )"
   ]
  },
  {
   "cell_type": "code",
   "execution_count": null,
   "metadata": {},
   "outputs": [],
   "source": [
    "slide( '37' )"
   ]
  },
  {
   "cell_type": "code",
   "execution_count": null,
   "metadata": {},
   "outputs": [],
   "source": [
    "slide( '38' )"
   ]
  },
  {
   "cell_type": "markdown",
   "metadata": {},
   "source": [
    "There are several packages for creating random numbers.  We will first use *random*.\n",
    "\n",
    "Create *pseudo-random numbers*.  The computer uses a deterministic formula such as $X_{n+1} = (aX_n + c)~mod~m$.  This is recursive.  The starting point, $X_0$, is the *seed*, usually the current clock time."
   ]
  },
  {
   "cell_type": "code",
   "execution_count": null,
   "metadata": {},
   "outputs": [],
   "source": [
    "##\n",
    "## Linear Congruential Generator\n",
    "##\n",
    "## num = number of randon values to generate\n",
    "## \n",
    "num = 10\n",
    "def lcg( myseed = 42, a = 1, c = 5, m = 4, num = 10 ):\n",
    "    ## \n",
    "    ## Initialize the seed state\n",
    "    ##\n",
    "    X = [ 0 ] * num\n",
    "    X[ 0 ] = myseed\n",
    "    ##\n",
    "    ## Generator\n",
    "    ##\n",
    "    for i in range( num ):\n",
    "        X[ i ] = ( a * X[ i - 1 ] + c ) % m\n",
    "    return X\n",
    "lcg( )"
   ]
  },
  {
   "cell_type": "code",
   "execution_count": null,
   "metadata": {
    "scrolled": true
   },
   "outputs": [],
   "source": [
    "##\n",
    "## Random number based on current clock time\n",
    "##\n",
    "## Get current clock time using the datetime package\n",
    "##\n",
    "now = datetime.now()\n",
    "##\n",
    "current_time = now.strftime( \"%H:%M:%S\" )   ## strftime is a string format function\n",
    "print( f'Current clock time: {current_time}' )\n",
    "##\n",
    "## The random number is uniform\n",
    "##\n",
    "rnd = random.random()\n",
    "print( f'Random number using current clock time: {rnd}' )"
   ]
  },
  {
   "cell_type": "code",
   "execution_count": null,
   "metadata": {},
   "outputs": [],
   "source": [
    "##\n",
    "## Set the seed to be other than the current clock time\n",
    "##\n",
    "random.seed( )\n",
    "rnd = random.random()\n",
    "print( f'Random number without seed: {rnd}' )\n",
    "##\n",
    "random.seed( 42 )\n",
    "rnd = random.random()\n",
    "print( f'Random number with seed: {rnd}' )"
   ]
  },
  {
   "cell_type": "code",
   "execution_count": null,
   "metadata": {
    "scrolled": true
   },
   "outputs": [],
   "source": [
    "##\n",
    "## Generate a random integer between min and max\n",
    "## Range is 0 - 10 includes 10\n",
    "## randint return a random integer N such that min <= N <= max.\n",
    "##\n",
    "print( f\"Random integer: {random.randint( 0, 10 )}\" )\n",
    "##\n",
    "## Generate random even integer between min and max\n",
    "## Range is 0 - 10 inclusive by steps of 2\n",
    "##\n",
    "rng = random.randrange( 0, 10, 2 )\n",
    "print( f\"Random even integer: {rng}\" ) "
   ]
  },
  {
   "cell_type": "code",
   "execution_count": null,
   "metadata": {
    "scrolled": true
   },
   "outputs": [],
   "source": [
    "##\n",
    "## Random choice from list\n",
    "##\n",
    "lst = [ 'Rutgers', 'Princeton', 'Yale', 'Harvard', 'Penn' ]\n",
    "choice = random.choice( lst )\n",
    "print( f\"Random choice from list: {choice}\" )"
   ]
  },
  {
   "cell_type": "code",
   "execution_count": null,
   "metadata": {
    "scrolled": true
   },
   "outputs": [],
   "source": [
    "##\n",
    "## Random sample of size n from a list\n",
    "## Without replacement\n",
    "## Random sample of size n = 3\n",
    "##\n",
    "lst = [ 2, 5, 8, 9, 12 ]\n",
    "n = 3\n",
    "smpl = random.sample( lst, n )\n",
    "print ( f\"Random sample of size {n} without replacement: {smpl}\" )"
   ]
  },
  {
   "cell_type": "code",
   "execution_count": null,
   "metadata": {},
   "outputs": [],
   "source": [
    "##\n",
    "## Random sample of size n from a list\n",
    "## With replacement\n",
    "## Random sample of size n = 5\n",
    "##\n",
    "lst = [20, 30, 40, 50 ,60, 70, 80, 90]\n",
    "n = 5\n",
    "smpl = random.choices( lst, k = n )\n",
    "print( f\"Random sample of size {n} with replacement: {smpl}\" )"
   ]
  },
  {
   "cell_type": "code",
   "execution_count": null,
   "metadata": {},
   "outputs": [],
   "source": [
    "##\n",
    "## Randomly shuffle a list\n",
    "##\n",
    "lst = [ 'Rutgers', 'Princeton', 'Yale', 'Harvard', 'Penn' ]\n",
    "random.shuffle( lst )\n",
    "print( f\"Shuffled list: {lst}\" )"
   ]
  },
  {
   "cell_type": "code",
   "execution_count": null,
   "metadata": {
    "scrolled": true
   },
   "outputs": [],
   "source": [
    "##\n",
    "## Generate uniform random quantile\n",
    "##\n",
    "urnd = random.uniform( 0, 1 )\n",
    "print( f\"Uniform quantile within a (0 1) range: {urnd}\" )"
   ]
  },
  {
   "cell_type": "code",
   "execution_count": null,
   "metadata": {},
   "outputs": [],
   "source": [
    "##\n",
    "## Generate Standard Gaussian Normal quantile\n",
    "## mu = 0, sigma = 1\n",
    "## NOTE: This uses the standard deviation, sigma, not the variance, sigma-squared\n",
    "##\n",
    "random.seed( 42 )\n",
    "gauss = random.gauss( 0, 1 )\n",
    "print( f\"Gaussian Normal: {gauss}\" ) "
   ]
  },
  {
   "cell_type": "code",
   "execution_count": null,
   "metadata": {},
   "outputs": [],
   "source": [
    "##\n",
    "## Generate lognormal Normal quantile\n",
    "## NOTE: use Numpy\n",
    "##\n",
    "random.seed( 42 )\n",
    "mu = -2\n",
    "sigma = 1\n",
    "size = None ## Generates one value\n",
    "##\n",
    "log_norm = np.random.lognormal( mean = mu, sigma = sigma, size = None )\n",
    "print( f\"Log Normal: {log_norm}\" )\n",
    "print( f\"Math Natural Log Applied: {math.log( log_norm)}\" )"
   ]
  },
  {
   "cell_type": "markdown",
   "metadata": {},
   "source": [
    "A random variable $Y$ is log-normally distributed if $Y = e^X$ so that $\\ln{(Y)} = X \\sim \\mathcal{N}(\\mu, \\sigma^2)$.  This expalins why the natural log function is applied to the random number."
   ]
  },
  {
   "cell_type": "markdown",
   "metadata": {},
   "source": [
    "<div class=\"alert alert-danger\" role=\"alert\">\n",
    "  <center><h1><strong><font color = black>Exercises</center></h1></strong>\n",
    "    \n",
    "[Back to Contents](#Contents)\n",
    "</div>\n"
   ]
  },
  {
   "cell_type": "markdown",
   "metadata": {},
   "source": [
    "#### Exercise II.1\n",
    "\n",
    "[Back to Contents](#Contents)\n",
    "\n",
    "Generate a random integer from 1 to 5, inclusive.\n",
    "\n",
    "[See Solution](#Solution-II.1)"
   ]
  },
  {
   "cell_type": "code",
   "execution_count": null,
   "metadata": {},
   "outputs": [],
   "source": [
    "##\n",
    "## Enter code here\n",
    "##\n"
   ]
  },
  {
   "cell_type": "markdown",
   "metadata": {},
   "source": [
    "#### Exercise II.2\n",
    "\n",
    "[Back to Contents](#Contents)\n",
    "\n",
    "Generate a standard normal quantile from a N(0, 1).\n",
    "\n",
    "[See Solution](#Solution-II.2)"
   ]
  },
  {
   "cell_type": "code",
   "execution_count": null,
   "metadata": {},
   "outputs": [],
   "source": [
    "##\n",
    "## Enter code here\n",
    "##\n"
   ]
  },
  {
   "cell_type": "markdown",
   "metadata": {},
   "source": [
    "#### Exercise II.3\n",
    "\n",
    "[Back to Contents](#Contents)\n",
    "\n",
    "Generate a uniform random variable between 3 and 4.\n",
    "\n",
    "[See Solution](#Solution-II.3)"
   ]
  },
  {
   "cell_type": "code",
   "execution_count": null,
   "metadata": {},
   "outputs": [],
   "source": [
    "##\n",
    "## Enter code here\n",
    "##\n"
   ]
  },
  {
   "cell_type": "markdown",
   "metadata": {},
   "source": [
    "#### Exercise II.4\n",
    "\n",
    "[Back to Contents](#Contents)\n",
    "\n",
    "Generate a log-normal random variable with mean 20 and variance 25 and convert the scale.\n",
    "\n",
    "[See Solution](#Solution-II.4)"
   ]
  },
  {
   "cell_type": "code",
   "execution_count": null,
   "metadata": {},
   "outputs": [],
   "source": [
    "##\n",
    "## Enter code here\n",
    "##\n"
   ]
  },
  {
   "cell_type": "markdown",
   "metadata": {},
   "source": [
    "<div class=\"alert alert-danger\" role=\"alert\">\n",
    "  <center><h1><strong><font color = black>End Exercises</center></h1></strong>\n",
    "</div>"
   ]
  },
  {
   "cell_type": "markdown",
   "metadata": {},
   "source": [
    "### II.2 Simulation Example 1: Dice Toss\n",
    "\n",
    "[Back to Contents](#Contents)"
   ]
  },
  {
   "cell_type": "markdown",
   "metadata": {},
   "source": [
    "Recall the problem of three flips of a fair coin.  What are the probabilities of heads?  They are:\n",
    "\n",
    "> ${3\\choose 0} \\times \\frac{1}{2}^0 \\times \\frac{1}{2}^3 = \\frac{1}{8} = 0.125$\n",
    ">\n",
    "> ${3\\choose 1} \\times \\frac{1}{2}^1 \\times \\frac{1}{2}^2 = \\frac{3}{8} = 0.375$\n",
    ">\n",
    "> ${3\\choose 2} \\times \\frac{1}{2}^2 \\times \\frac{1}{2}^1 = \\frac{3}{8} = 0.375$\n",
    ">\n",
    "> ${3\\choose 3} \\times \\frac{1}{2}^3 \\times \\frac{1}{2}^0 = \\frac{1}{8} = 0.125$"
   ]
  },
  {
   "cell_type": "code",
   "execution_count": null,
   "metadata": {},
   "outputs": [],
   "source": [
    "##\n",
    "## Set random seed\n",
    "##\n",
    "random.seed( 42 )\n",
    "##\n",
    "## Define function for coin toss\n",
    "##\n",
    "def toss():\n",
    "    a = [ 1, 0 ] ## 1 = heads; 0 = tails\n",
    "    return random.choice( a )\n",
    "##\n",
    "## Set toss experiment parameters\n",
    "##\n",
    "n = 3                    ## tosses or trials in an experiment\n",
    "iter = 100000            ## iterations or experiments\n",
    "heads = [ 0 ]*( n + 1 )  ## initialization\n",
    "##\n",
    "## Do the experiment\n",
    "##\n",
    "for i in range( iter ):\n",
    "    x = sum( [ toss() for x in range( n ) ] )\n",
    "    for j in range( n + 1 ):\n",
    "        if x == j:\n",
    "            heads[ j ] += 1\n",
    "            break\n",
    "heads = [ round( x/iter, 3 ) for x in heads ]\n",
    "##\n",
    "## Display results\n",
    "##\n",
    "x = [ str( j ) + ' Head' for j in range( n + 1 ) ]\n",
    "sim_result = [  x[ i ] + ': ' + str( heads[ i ] ) for i in range( n + 1 ) ]\n",
    "print( f\"Simulated Coin Toss:\\n\\t{sim_result}\\n\" )\n",
    "##\n",
    "plt.bar( x, heads )\n",
    "plt.title( 'Probability of Heads\\n' + str( n ) + ' Flips of a Fair Coin\\n'\\\n",
    "          '$\\\\binom{ n }{ r } \\\\times \\\\left(\\\\frac{1}{2}\\\\right)^r \\\\times \\\\left(\\\\frac{1}{2}\\\\right)^{n - r}$\\n',\\\n",
    "          fontsize = 20 )\n",
    "plt.ylabel( 'Probability' );"
   ]
  },
  {
   "cell_type": "markdown",
   "metadata": {},
   "source": [
    "### II.3 Simulation Example 2: Random Walk\n",
    "\n",
    "[Back to Contents](#Contents)"
   ]
  },
  {
   "cell_type": "code",
   "execution_count": null,
   "metadata": {},
   "outputs": [],
   "source": [
    "slide( '42' )"
   ]
  },
  {
   "cell_type": "code",
   "execution_count": null,
   "metadata": {},
   "outputs": [],
   "source": [
    "##\n",
    "## Set random seed to the clock time\n",
    "##\n",
    "random.seed( )\n",
    "##\n",
    "## Set number of walks\n",
    "##\n",
    "n = 1000\n",
    "##\n",
    "## Create empty list to hold random walk values\n",
    "## This initial value of 0 is the starting point for the random walk.\n",
    "## The initial value can be any number -- 0 is just convenient.\n",
    "##\n",
    "random_walk = [ 0 ]\n",
    "##\n",
    "## Generate random walk\n",
    "##\n",
    "for i in range( 1, n ):\n",
    "    ##\n",
    "    ## Specify the movement for the walk:\n",
    "    ## ===> Use the following for a discrete random walk:\n",
    "    ##      movement = -1 if random() < 0.5 else 1\n",
    "    ## ===> Use the following for a continuous random walk:\n",
    "    ##      movement = random.gauss( 0, 0.5 )\n",
    "    movement = random.gauss( 0, 0.5 )\n",
    "    value = random_walk[ i - 1 ] + movement\n",
    "    random_walk.append( value )\n",
    "print( f\"Number of random walks: {len( random_walk )}\" )\n",
    "##\n",
    "## Store the walks in a DataFrame\n",
    "##\n",
    "data = { 'period':range( 0, n ), 'walk': random_walk } \n",
    "df = pd.DataFrame( data )\n",
    "print( f\"Sample of Walks\\n\", df.head() )\n",
    "##\n",
    "## Plot the Random Walk\n",
    "##\n",
    "ax = df.plot( x = 'period', y = 'walk', kind = 'line' )\n",
    "ax.set_title( 'Random Walk\\n' + str( n ) + ' Iterations' )\n",
    "ax.set_xlabel( 'Iterations' )\n",
    "ax.set_ylabel( 'Random Walks' );\n"
   ]
  },
  {
   "cell_type": "markdown",
   "metadata": {},
   "source": [
    "### II.4 Simulation Example 3: M/M/1 Queueing System\n",
    "\n",
    "[Back to Contents](#Contents)\n"
   ]
  },
  {
   "cell_type": "code",
   "execution_count": null,
   "metadata": {
    "scrolled": false
   },
   "outputs": [],
   "source": [
    "slide( '44' )"
   ]
  },
  {
   "cell_type": "code",
   "execution_count": null,
   "metadata": {},
   "outputs": [],
   "source": [
    "slide( '45' )"
   ]
  },
  {
   "cell_type": "code",
   "execution_count": null,
   "metadata": {},
   "outputs": [],
   "source": [
    "slide( '46' )"
   ]
  },
  {
   "cell_type": "code",
   "execution_count": null,
   "metadata": {},
   "outputs": [],
   "source": [
    "slide( '47' )"
   ]
  },
  {
   "cell_type": "code",
   "execution_count": null,
   "metadata": {
    "scrolled": false
   },
   "outputs": [],
   "source": [
    "slide( '48' )"
   ]
  },
  {
   "cell_type": "code",
   "execution_count": null,
   "metadata": {},
   "outputs": [],
   "source": [
    "slide( '49' )"
   ]
  },
  {
   "cell_type": "code",
   "execution_count": null,
   "metadata": {},
   "outputs": [],
   "source": [
    "slide( '50' )"
   ]
  },
  {
   "cell_type": "code",
   "execution_count": null,
   "metadata": {},
   "outputs": [],
   "source": [
    "slide( '51' )"
   ]
  },
  {
   "cell_type": "code",
   "execution_count": null,
   "metadata": {},
   "outputs": [],
   "source": [
    "slide( '52' )"
   ]
  },
  {
   "cell_type": "code",
   "execution_count": null,
   "metadata": {},
   "outputs": [],
   "source": [
    "##\n",
    "## Set queue hyperparameters\n",
    "## Code Source: https://medium.com/analytics-vidhya/simulating-a-single-server-queuing-system-in-python-f8e32578749f\n",
    "## \n",
    "average_arrival_interval = 5                ## 5 minutes per arrival\n",
    "arrival_lambd = 1/average_arrival_interval  ## number of arrivals per minute \n",
    "##\n",
    "average_service_time = 3                    ## 3 minutes per service\n",
    "service_lambd = 1/average_service_time      ## number served per minute\n",
    "##\n",
    "## Number of events\n",
    "##\n",
    "n_events = 30"
   ]
  },
  {
   "cell_type": "code",
   "execution_count": null,
   "metadata": {},
   "outputs": [],
   "source": [
    "##\n",
    "## Import queueing functions\n",
    "## Functions are:\n",
    "##   1. ts_update: a timing utility\n",
    "##   2. queue_run: the main function \n",
    "##   3. queue_summary: a summary function\n",
    "##\n",
    "%run ../scripts/queue"
   ]
  },
  {
   "cell_type": "code",
   "execution_count": null,
   "metadata": {},
   "outputs": [],
   "source": [
    "##\n",
    "## Run one queue function for seed = 42 \n",
    "##\n",
    "queue = queue_run( arrival_lambd, service_lambd, n_events, seed = 42 )\n",
    "##\n",
    "## Summarize results\n",
    "##\n",
    "boldprt( 'Queue Data\\n' )\n",
    "display( queue.head() )\n",
    "x = queue_summary( queue )\n",
    "boldprt( '\\n\\nQueue Summary\\n' )\n",
    "display( x.head() )\n",
    "boldprt( f'\\n\\nQueue Statistics\\n' )\n",
    "cols = [ 'time in queue', 'time in server', 'time in system' ]\n",
    "x[ cols ].describe()"
   ]
  },
  {
   "cell_type": "markdown",
   "metadata": {},
   "source": [
    "Run multiple queueing experiments"
   ]
  },
  {
   "cell_type": "code",
   "execution_count": null,
   "metadata": {},
   "outputs": [],
   "source": [
    "##\n",
    "## Define a run experiment function\n",
    "##\n",
    "def run_experiments( n_runs = 50 ):\n",
    "    df = pd.DataFrame( columns = [ 'time in queue', 'time in server', 'time in system' ] )\n",
    "    cols = list( df )\n",
    "    for i in range( n_runs ):\n",
    "        queue = queue_run( arrival_lambd, service_lambd, n_events, seed = i )\n",
    "        x = queue_summary( queue )\n",
    "        means = x[ cols ].describe().loc['mean']\n",
    "        df = df.append( means )\n",
    "    df.reset_index( inplace = True, drop = True )\n",
    "    df[ 'run number' ] = range( 1, n_runs + 1 )\n",
    "    df = df[ [ 'run number', 'time in queue', 'time in server', 'time in system' ] ] #rearrange columns\n",
    "    return df\n",
    "##\n",
    "## Run the simulation experiment\n",
    "##\n",
    "n_runs = 10\n",
    "experiments = run_experiments( n_runs = n_runs )\n",
    "display( experiments.head( ) )\n",
    "ax1 = experiments.plot( x = 'run number', y = 'time in queue' )\n",
    "ax1.set_title( 'Time in Queue' )\n",
    "##\n",
    "ax2 = experiments.plot( x = 'run number', y = 'time in system' )\n",
    "ax1.set_title( 'Time in System' )\n",
    "##\n",
    "ax3 = experiments.plot( x = 'run number', y = 'time in server' )\n",
    "ax3.set_title( 'Time in Server' )\n",
    "##\n",
    "ax4 = experiments.plot( x = 'time in server', y = 'time in queue' )\n",
    "ax4.set_title( 'Time in Queue\\nvs.\\Time in Queue' )"
   ]
  },
  {
   "cell_type": "markdown",
   "metadata": {},
   "source": [
    "<div class=\"alert alert-warning\" role=\"alert\">\n",
    "    <center><h1><strong><font color = black>Five Minute Break</font></center></h1></strong>\n",
    "</div>"
   ]
  },
  {
   "cell_type": "markdown",
   "metadata": {},
   "source": [
    "<div class=\"alert alert-info\" role=\"alert\">\n",
    "    \n",
    "<font color = black>Lesson III: Introduction to Mathematical Programming\n",
    "--------------------------------------------------\n",
    "\n",
    "[Back to Contents](#Contents)    \n",
    "    \n",
    "</div>\n"
   ]
  },
  {
   "cell_type": "code",
   "execution_count": null,
   "metadata": {},
   "outputs": [],
   "source": [
    "slide( '55' )"
   ]
  },
  {
   "cell_type": "code",
   "execution_count": null,
   "metadata": {},
   "outputs": [],
   "source": [
    "slide( '56' )"
   ]
  },
  {
   "cell_type": "code",
   "execution_count": null,
   "metadata": {},
   "outputs": [],
   "source": [
    "slide( '57' )"
   ]
  },
  {
   "cell_type": "markdown",
   "metadata": {},
   "source": [
    "### III.1 Linear Programming Example 1: Basic Set-up\n",
    "\n",
    "[Back to Contents](#Contents)\n"
   ]
  },
  {
   "cell_type": "code",
   "execution_count": null,
   "metadata": {},
   "outputs": [],
   "source": [
    "slide( '58' )"
   ]
  },
  {
   "cell_type": "code",
   "execution_count": null,
   "metadata": {},
   "outputs": [],
   "source": [
    "slide( '59' )"
   ]
  },
  {
   "cell_type": "code",
   "execution_count": null,
   "metadata": {},
   "outputs": [],
   "source": [
    "slide( '60' )"
   ]
  },
  {
   "cell_type": "code",
   "execution_count": null,
   "metadata": {},
   "outputs": [],
   "source": [
    "slide( '61' )"
   ]
  },
  {
   "cell_type": "code",
   "execution_count": null,
   "metadata": {},
   "outputs": [],
   "source": [
    "slide( '62' )"
   ]
  },
  {
   "cell_type": "code",
   "execution_count": null,
   "metadata": {},
   "outputs": [],
   "source": [
    "slide( '63' )"
   ]
  },
  {
   "cell_type": "code",
   "execution_count": null,
   "metadata": {},
   "outputs": [],
   "source": [
    "##\n",
    "## Scipy setup\n",
    "##\n",
    "## Objective function coefficients: MINIMIZE\n",
    "##\n",
    "c = [ -1, -2 ]\n",
    "##\n",
    "## Inequality coefficients\n",
    "## Note the order matches the equation order\n",
    "##\n",
    "Aub = [ \n",
    "        [ 1, 3 ], \n",
    "        [ 1, 1 ], \n",
    "        [ 2, 1 ]\n",
    "      ]\n",
    "##\n",
    "## Inequality bounds (lhs)\n",
    "##\n",
    "bub = [ 18, 8, 14 ]\n",
    "##\n",
    "## Non-negativity constraints\n",
    "##\n",
    "x1_bounds = ( 0, None )\n",
    "x2_bounds = ( 0, None )\n",
    "##\n",
    "## Do calculation; use revised simplex method\n",
    "##\n",
    "sol = linprog( c, A_ub = Aub, b_ub = bub, bounds = [ x1_bounds, x2_bounds ], method = 'revised simplex' )\n",
    "##\n",
    "## Print solution\n",
    "##\n",
    "print( f'Solution Summary:\\n{sol}' )\n",
    "print( '\\n' )\n",
    "print( f'Coordinates:\\n\\t{sol.x}' )\n",
    "print( f'Optimal value:\\n\\t{round( -1 * sol.fun )}' )"
   ]
  },
  {
   "cell_type": "markdown",
   "metadata": {},
   "source": [
    "### III.2 Linear Programming Example 2: Different Bounds\n",
    "\n",
    "[Back to Contents](#Contents)\n"
   ]
  },
  {
   "cell_type": "code",
   "execution_count": null,
   "metadata": {
    "scrolled": false
   },
   "outputs": [],
   "source": [
    "slide( '65' ) "
   ]
  },
  {
   "cell_type": "markdown",
   "metadata": {},
   "source": [
    "From Liebhafsky"
   ]
  },
  {
   "cell_type": "code",
   "execution_count": null,
   "metadata": {},
   "outputs": [],
   "source": [
    "##\n",
    "## Specify objective function prices\n",
    "## Note: use negatives to make a maximization\n",
    "##\n",
    "obj = [-20, -15]\n",
    "##\n",
    "## Specify LHS constraints\n",
    "##\n",
    "lhs_ineq = [[ 5,  15],\n",
    "            [ 3,  4 ],\n",
    "            [ 12, 7 ] ]\n",
    "##\n",
    "## Specify RHS constraints\n",
    "##\n",
    "rhs_ineq = [ 60, 24, 84 ]\n",
    "##\n",
    "## Specify bounds\n",
    "##\n",
    "bnd = [( 0, float( \"inf\" ) ),   # Bounds of x\n",
    "       ( 0, float( \"inf\" ) ) ]  # Bounds of y\n",
    "##\n",
    "## Specify function\n",
    "##\n",
    "opt = linprog(c=obj, A_ub=lhs_ineq, b_ub=rhs_ineq, bounds=bnd, method=\"revised simplex\")\n",
    "##\n",
    "## Calculate revenue\n",
    "##\n",
    "Rev = 20 * opt.x[ 0 ] + 15 * opt.x[ 1 ]\n",
    "##\n",
    "## Display optimized results\n",
    "##\n",
    "boldprt( 'Results:\\n' )\n",
    "print( f'First Product: {round( opt.x[ 0 ], 2)};\\nSecond Product: {round(opt.x[ 1 ], 2)}' )\n",
    "print( f'Profit Maimizing Revenue: ${round( Rev )}' )"
   ]
  },
  {
   "cell_type": "markdown",
   "metadata": {},
   "source": [
    "<div class=\"alert alert-danger\" role=\"alert\">\n",
    "  <center><h1><strong><font color = black>Exercises</center></h1></strong>\n",
    "    \n",
    "[Back to Contents](#Contents)\n",
    "</div>\n"
   ]
  },
  {
   "cell_type": "markdown",
   "metadata": {},
   "source": [
    "#### Exercise III.1\n",
    "\n",
    "[Back to Contents](#Contents)\n",
    "\n",
    "Specify and build a Linear Program in Python for the following problem.\n",
    "\n",
    "[See Solution](#Solution-III.1)"
   ]
  },
  {
   "cell_type": "code",
   "execution_count": null,
   "metadata": {},
   "outputs": [],
   "source": [
    "slide( '64' )"
   ]
  },
  {
   "cell_type": "code",
   "execution_count": null,
   "metadata": {},
   "outputs": [],
   "source": [
    "##\n",
    "## Enter code here\n",
    "##\n"
   ]
  },
  {
   "cell_type": "markdown",
   "metadata": {},
   "source": [
    "<div class=\"alert alert-danger\" role=\"alert\">\n",
    "  <center><h1><strong><font color = black>End Exercises</center></h1></strong>\n",
    "</div>"
   ]
  },
  {
   "cell_type": "markdown",
   "metadata": {},
   "source": [
    "### III.3 Simulation and LP\n",
    "\n",
    "[Back to Contents](#Contents)\n",
    "\n",
    "Reconsider the previous example:"
   ]
  },
  {
   "cell_type": "code",
   "execution_count": null,
   "metadata": {},
   "outputs": [],
   "source": [
    "slide( '66' )"
   ]
  },
  {
   "cell_type": "code",
   "execution_count": null,
   "metadata": {},
   "outputs": [],
   "source": [
    "slide( '67' )"
   ]
  },
  {
   "cell_type": "code",
   "execution_count": null,
   "metadata": {},
   "outputs": [],
   "source": [
    "slide( '68' )"
   ]
  },
  {
   "cell_type": "code",
   "execution_count": null,
   "metadata": {},
   "outputs": [],
   "source": [
    "##\n",
    "## Log-Normal Distribution\n",
    "##\n",
    "def lnorm( s, num = 1000 ):\n",
    "    min = lognorm.ppf( 0.01, s )  ## 1th percentile\n",
    "    max = lognorm.ppf( 0.99, s )  ## 99th percentile\n",
    "    x = np.linspace( min, max, num )\n",
    "    plt.plot(x, lognorm.pdf( x, s ), lw = 1, label = 'lognorm pdf' )\n",
    "##\n",
    "lnorm( 1 )\n",
    "lnorm( 0.5 )\n",
    "lnorm( 0.25 )\n",
    "plt.xlim( [ 0, 3 ] )\n",
    "plt.ylim( [ 0, 2 ] )\n",
    "##\n",
    "plt.title( 'Log-Normal Density Function' )\n",
    "plt.ylabel( 'Density' )\n",
    "plt.show()"
   ]
  },
  {
   "cell_type": "code",
   "execution_count": null,
   "metadata": {},
   "outputs": [],
   "source": [
    "slide( '65' ) "
   ]
  },
  {
   "cell_type": "markdown",
   "metadata": {},
   "source": [
    "Now let the means for the inputs on-hand be $a = 60$, $b = 24$, and $c = 84$ each with a standard deviation of 5, 2, and 8 units, respectively.  Use the log-normal distrinution. "
   ]
  },
  {
   "cell_type": "code",
   "execution_count": null,
   "metadata": {},
   "outputs": [],
   "source": [
    "##\n",
    "## Define a function\n",
    "##\n",
    "def lrv( mu, sigma ):\n",
    "    rv = math.log( np.random.lognormal( mean = mu, sigma = sigma, size = None ) )\n",
    "    return( rv )\n",
    "def lp_run( ):\n",
    "    obj = [-20, -15]\n",
    "    lhs_ineq = [ [ 5,  15 ], [ 3,  4 ], [ 12, 7 ] ]\n",
    "    rhs_ineq = [ round( lrv( mu, sigma ), 0 ) for mu, sigma in [ [ 60, 5 ], [ 24, 2 ], [ 84, 8 ] ] ]\n",
    "    bnd = [( 0, float( \"inf\" ) ), ( 0, float( \"inf\" ) ) ]\n",
    "    opt = linprog(c=obj, A_ub=lhs_ineq, b_ub=rhs_ineq, bounds=bnd, method=\"revised simplex\")\n",
    "    Rev = 20 * opt.x[ 0 ] + 15 * opt.x[ 1 ]\n",
    "    return( Rev, opt )    \n",
    "##\n",
    "## Define a run experiment function\n",
    "## See Queueing example set-up for similar function\n",
    "##\n",
    "def run_experiments( n_runs ):\n",
    "    df = pd.DataFrame( columns = [ 'First Product', 'Second Product', 'Revenue' ] )\n",
    "    cols = list( df )\n",
    "    for i in range( n_runs ):\n",
    "        Rev, opt = lp_run( )\n",
    "        data = { 'First Product':opt.x[ 0 ], 'Second Product':opt.x[ 1 ], 'Revenue':Rev }\n",
    "        x = pd.DataFrame( data, index = [ 0 ] )\n",
    "        frames = [ df, x ]\n",
    "        df = pd.concat( frames )\n",
    "    df[ 'run number' ] = range( 1, n_runs + 1 )\n",
    "    return df\n",
    "##\n",
    "## Run the simulation experiment\n",
    "##\n",
    "n_runs = 100\n",
    "experiments = run_experiments( n_runs )\n",
    "experiments.set_index( 'run number', inplace = True )\n",
    "display( experiments.head( ) )\n",
    "##\n",
    "## Display mean results\n",
    "##\n",
    "boldprt( 'Results:\\n' )\n",
    "print( f\"Iterations: {n_runs}\" )\n",
    "print( f\"Mean First Product: {round( experiments[ 'First Product' ].mean(), 0 )}\" )\n",
    "print( f\"Mean Second Product: {round( experiments[ 'Second Product' ].mean(), 0 )}\" )\n",
    "print( f\"Mean Profit Maximizing Revenue: {round( experiments[ 'Revenue' ].mean(), 0 )}\" )\n",
    "##\n",
    "ax = experiments.plot( y = 'Revenue', kind = 'box', grid = False,\n",
    "                 title = 'Profit Maximizing Revenue\\nDistribution' )\n",
    "ax.set( ylabel = 'Revenue ($)' );"
   ]
  },
  {
   "cell_type": "markdown",
   "metadata": {},
   "source": [
    "<div class=\"alert alert-warning\" role=\"alert\">\n",
    "    <center><h1><strong><font color = black>Five Minute Break</font></center></h1></strong>\n",
    "</div>"
   ]
  },
  {
   "cell_type": "markdown",
   "metadata": {},
   "source": [
    "<div class=\"alert alert-info\" role=\"alert\">\n",
    "    \n",
    "<font color = black>Lesson IV: Introduction to Artificial Neural Networks\n",
    "--------------------------------------------------\n",
    "\n",
    "[Back to Contents](#Contents)    \n",
    "    \n",
    "</div>\n"
   ]
  },
  {
   "cell_type": "code",
   "execution_count": null,
   "metadata": {},
   "outputs": [],
   "source": [
    "slide( '71' )"
   ]
  },
  {
   "cell_type": "code",
   "execution_count": null,
   "metadata": {},
   "outputs": [],
   "source": [
    "slide( '72' )"
   ]
  },
  {
   "cell_type": "code",
   "execution_count": null,
   "metadata": {},
   "outputs": [],
   "source": [
    "slide( '73' )"
   ]
  },
  {
   "cell_type": "code",
   "execution_count": null,
   "metadata": {},
   "outputs": [],
   "source": [
    "slide( '74' )"
   ]
  },
  {
   "cell_type": "code",
   "execution_count": null,
   "metadata": {},
   "outputs": [],
   "source": [
    "slide( '75' )"
   ]
  },
  {
   "cell_type": "code",
   "execution_count": null,
   "metadata": {},
   "outputs": [],
   "source": [
    "slide( '76' )"
   ]
  },
  {
   "cell_type": "code",
   "execution_count": null,
   "metadata": {},
   "outputs": [],
   "source": [
    "slide( '77' )"
   ]
  },
  {
   "cell_type": "code",
   "execution_count": null,
   "metadata": {},
   "outputs": [],
   "source": [
    "slide( '78' )"
   ]
  },
  {
   "cell_type": "code",
   "execution_count": null,
   "metadata": {},
   "outputs": [],
   "source": [
    "slide( '79' )"
   ]
  },
  {
   "cell_type": "code",
   "execution_count": null,
   "metadata": {},
   "outputs": [],
   "source": [
    "slide( '80' )"
   ]
  },
  {
   "cell_type": "code",
   "execution_count": null,
   "metadata": {},
   "outputs": [],
   "source": [
    "slide( '81' )"
   ]
  },
  {
   "cell_type": "markdown",
   "metadata": {},
   "source": [
    "### IV.1 Example of an ANN\n",
    "\n",
    "[Back to Contents](#Contents)  \n",
    "\n",
    "This demonstration uses the sklearn.datasets' *make_classification* function to randomly generate a data set."
   ]
  },
  {
   "cell_type": "code",
   "execution_count": null,
   "metadata": {},
   "outputs": [],
   "source": [
    "##\n",
    "## Set random seed\n",
    "##\n",
    "rseed = 42\n",
    "##\n",
    "## Generate some data: 100 observations and 20 factors with n_classes = 2 \n",
    "##\n",
    "X, y = make_classification( n_samples = 100, n_features = 20, n_classes = 2, random_state = rseed )\n",
    "##\n",
    "## Split the data into 3/4 training\n",
    "##\n",
    "X_train, X_test, y_train, y_test = train_test_split(X, y, train_size = 0.75, random_state = rseed )\n",
    "print( f\"Size of training data: {X_train.shape}\" )\n",
    "##\n",
    "## Do ANN (Multilayer Perceptron) classification\n",
    "## ===> Step 1: Instantiate the classifier <===\n",
    "##\n",
    "clf = MLPClassifier( random_state = rseed, max_iter = 300 )\n",
    "##\n",
    "## ===> Step 2: Fit the instantiated classifier <===\n",
    "##      Recommendation: number your fitted models\n",
    "##\n",
    "clf01 = clf.fit( X_train, y_train )\n",
    "##\n",
    "## ===> Step 3: Classify Test Cases <===\n",
    "##\n",
    "pred = clf01.predict_proba( X_test ) \n",
    "print( f\"Size of Predicted Probabilities for Testing Data: {pred.shape}\" )\n",
    "print( f\"Prediction Probabilities:\\n{np.around( pred[ :5 ], 3 )}\" )\n",
    "print( f\"Classifications:{clf.predict( X_test[ :5, : ] ) }\" )\n",
    "print( f\"Classification Score: {clf.score(X_test, y_test)}\" )"
   ]
  },
  {
   "cell_type": "markdown",
   "metadata": {},
   "source": [
    "<div class=\"alert alert-danger\" role=\"alert\">\n",
    "  <center><h1><strong><font color = black>Exercises</center></h1></strong>\n",
    "    \n",
    "[Back to Contents](#Contents)\n",
    "</div>\n"
   ]
  },
  {
   "cell_type": "markdown",
   "metadata": {},
   "source": [
    "#### Exercise IV.1\n",
    "\n",
    "[Back to Contents](#Contents)\n",
    "\n",
    "Specify and build a Neural Net in Python.  \n",
    "\n",
    ">1. Specify a random seed; \n",
    ">2. Generate some data with 50 observations, 20 factors, with n_classes = 2; and\n",
    ">3. Split the data into 2/3 (= 0.67) training.\n",
    "\n",
    "[See Solution](#Solution-IV.1)\n"
   ]
  },
  {
   "cell_type": "markdown",
   "metadata": {},
   "source": [
    "<div class=\"alert alert-danger\" role=\"alert\">\n",
    "  <center><h1><strong><font color = black>End Exercises</center></h1></strong>\n",
    "</div>"
   ]
  },
  {
   "cell_type": "markdown",
   "metadata": {},
   "source": [
    "<div class=\"alert alert-info\" role=\"alert\">\n",
    "    \n",
    "<font color = black>Lesson V: Summary and Wrap-up\n",
    "--------------------------------------------------\n",
    "\n",
    "[Back to Contents](#Contents)    \n",
    "    \n",
    "</div>\n"
   ]
  },
  {
   "cell_type": "markdown",
   "metadata": {},
   "source": [
    "### We learned:\n",
    "\n",
    ">1. The difference between Predictive Analytics and Prescriptive Analytics.\n",
    ">2. The role and importrance of simulation.\n",
    ">3. The basis of simulations: random numbers.\n",
    ">4. The role and importance of matrhematical programming and how to use it with simulations.\n",
    ">5. The basis of *Artificial Neural Networks*."
   ]
  },
  {
   "cell_type": "markdown",
   "metadata": {},
   "source": [
    "<div class=\"alert alert-info\" role=\"alert\">\n",
    "    \n",
    "<font color = black>Contact Information\n",
    "---------------------------------------\n",
    "    \n",
    "[Back to Contents](#Contents)  \n",
    "    \n",
    "</div>\n",
    "\n",
    "If you have any questions after this course, please do not hesitate to contact me."
   ]
  },
  {
   "attachments": {
    "DataAnalyticsBC.png": {
     "image/png": "[encoded data removed]"
    }
   },
   "cell_type": "markdown",
   "metadata": {},
   "source": [
    "![DataAnalyticsBC.png](attachment:DataAnalyticsBC.png)"
   ]
  },
  {
   "cell_type": "markdown",
   "metadata": {},
   "source": [
    "<div class=\"alert alert-info\" role=\"alert\">\n",
    "    \n",
    "<font color = black>Appendix\n",
    "--------------------------------------\n",
    "    \n",
    "[Back to Contents](#Contents)  \n",
    "    \n",
    "</div>\n"
   ]
  },
  {
   "cell_type": "markdown",
   "metadata": {},
   "source": [
    "### Appendix I.1 Coin Toss Simulation\n",
    "\n",
    "[Back to Contents](#Contents)  \n",
    "\n",
    "Alternative approach."
   ]
  },
  {
   "cell_type": "code",
   "execution_count": null,
   "metadata": {},
   "outputs": [],
   "source": [
    "import random\n",
    "import matplotlib.pyplot as plt\n",
    "##\n",
    "## Simplier approach\n",
    "##\n",
    "## Set random seed\n",
    "##\n",
    "random.seed( 42 )\n",
    "##\n",
    "## Define function for coin toss\n",
    "##\n",
    "def toss():\n",
    "    a = [ 1, 0 ] ## 1 = heads; 0 = tails\n",
    "    return random.choice( a )\n",
    "##\n",
    "## Set toss experiment parameters\n",
    "##\n",
    "n = 3                    ## tosses or trials in an experiment\n",
    "iter = 100000            ## iterations or experiments\n",
    "heads = [ 0 ]*( n + 1 )  ## initialization\n",
    "##\n",
    "for i in range( iter ):\n",
    "    x = sum( [ toss() for x in range( n ) ] )\n",
    "    heads = [ j + 1 if x == i else j for i, j in enumerate( heads ) ]\n",
    "heads = [ round( x/iter, 3 ) for x in heads ]\n",
    "##\n",
    "x = [ str( j ) + ' Head' for j in range( n + 1 ) ]\n",
    "display( [  x[ i ] + ': ' + str( heads[ i ] ) for i in range( n + 1 ) ] )\n",
    "##\n",
    "plt.bar( x, heads )\n",
    "plt.title( 'Probability of Heads\\n' + str( n ) + ' Flips of a Fair Coin\\n'\\\n",
    "          '$\\\\binom{ n }{ r } \\\\times \\\\left(\\\\frac{1}{2}\\\\right)^r \\\\times \\\\left(\\\\frac{1}{2}\\\\right)^{n - r}$\\n',\\\n",
    "          fontsize = 20 )\n",
    "plt.ylabel( 'Probability' );"
   ]
  },
  {
   "cell_type": "markdown",
   "metadata": {},
   "source": [
    "<div class=\"alert alert-info\" role=\"alert\">\n",
    "    \n",
    "<font color = black>Exercise Solutions\n",
    "--------------------------------------\n",
    "    \n",
    "[Back to Contents](#Contents)  \n",
    "    \n",
    "</div>\n"
   ]
  },
  {
   "cell_type": "markdown",
   "metadata": {},
   "source": [
    "### Solution II.1\n",
    "\n",
    "[Return to Exercise II.1](#Exercise-II.1)\n",
    "\n",
    "Generate a random integer from 1 to 5, inclusive."
   ]
  },
  {
   "cell_type": "code",
   "execution_count": null,
   "metadata": {},
   "outputs": [],
   "source": [
    "random.randint( 1, 5 )"
   ]
  },
  {
   "cell_type": "markdown",
   "metadata": {},
   "source": [
    "### Solution II.2\n",
    "\n",
    "[Return to Exercise II.2](#Exercise-II.2)\n",
    "\n",
    "Generate a standard normal quantile from a N(0, 1)."
   ]
  },
  {
   "cell_type": "code",
   "execution_count": null,
   "metadata": {},
   "outputs": [],
   "source": [
    "random.gauss( 0, 1 )"
   ]
  },
  {
   "cell_type": "markdown",
   "metadata": {},
   "source": [
    "### Solution II.3\n",
    "\n",
    "[Return to Exercise II.3](#Exercise-II.3)\n",
    "\n",
    "Generate a uniform random variable between 3 and 4."
   ]
  },
  {
   "cell_type": "code",
   "execution_count": null,
   "metadata": {},
   "outputs": [],
   "source": [
    "random.uniform( 3, 4 )"
   ]
  },
  {
   "cell_type": "markdown",
   "metadata": {},
   "source": [
    "### Solution II.4\n",
    "\n",
    "[Return to Exercise II.4](#Exercise-II.4)\n",
    "\n",
    "Generate a log-normal random variable with mean 20 and variance 25 and convert the scale."
   ]
  },
  {
   "cell_type": "code",
   "execution_count": null,
   "metadata": {},
   "outputs": [],
   "source": [
    "mu, sigma = 20, math.sqrt( 25 )\n",
    "x = np.random.lognormal( mean = mu, sigma = sigma, size = None )\n",
    "print( x )\n",
    "print( math.log( x ) )"
   ]
  },
  {
   "cell_type": "markdown",
   "metadata": {},
   "source": [
    "### Solution III.1\n",
    "\n",
    "[Return to Exercise III.1](#Exercise-III.1)\n",
    "\n",
    "Specify and build a Linear Program in Python for the following problem."
   ]
  },
  {
   "cell_type": "code",
   "execution_count": null,
   "metadata": {},
   "outputs": [],
   "source": [
    "slide( '64' )"
   ]
  },
  {
   "cell_type": "code",
   "execution_count": null,
   "metadata": {},
   "outputs": [],
   "source": [
    "##\n",
    "## Follow scipy setup\n",
    "##\n",
    "c = [ -400, -700 ]\n",
    "A = [ [ -0.5,  1 ], [ 1000,  1500 ] ]\n",
    "b = [ 0, 100000 ]\n",
    "x1_bounds = (15, 80)\n",
    "x2_bounds = (0, None)\n",
    "##\n",
    "## Run LP problem\n",
    "##\n",
    "opt = linprog(c, A_ub = A, b_ub = b, bounds = [ x1_bounds, x2_bounds ], method = 'revised simplex' )\n",
    "Q = 400 * round( opt.x[ 0 ] ) + 700 * round( opt.x[ 1 ] )\n",
    "##\n",
    "## Display optimized results\n",
    "##\n",
    "boldprt( 'Results:\\n' )\n",
    "print( f'Number of PCs: {round( opt.x[ 0 ] )};\\nNumber of Laptops: {round( opt.x[ 1 ] )}' )\n",
    "print( f'Optimal Q: {Q}' )"
   ]
  },
  {
   "cell_type": "markdown",
   "metadata": {},
   "source": [
    "### Solution IV.1\n",
    "\n",
    "[Return to Exercise IV.1](#Exercise-IV.1)\n",
    "\n",
    "Specify and build a Neural Net in Python.  \n",
    "\n",
    ">1. Specify a random seed; \n",
    ">2. Generate some data with 50 observations, 20 factors, with n_classes = 2; and\n",
    ">3. Split the data into 2/3 (= 0.67) training.\n"
   ]
  },
  {
   "cell_type": "code",
   "execution_count": null,
   "metadata": {},
   "outputs": [],
   "source": [
    "##\n",
    "## Set random seed\n",
    "##\n",
    "rseed = 42\n",
    "##\n",
    "## Generate some data: 50 observations and 20 factors with n_classes = 2 \n",
    "##\n",
    "X, y = make_classification( n_samples = 100, n_features = 20, n_classes = 2, random_state = rseed )\n",
    "##\n",
    "## Split the data into 2/3 (= 0.67) training\n",
    "##\n",
    "X_train, X_test, y_train, y_test = train_test_split(X, y, train_size = 0.67, random_state = rseed )\n",
    "print( f\"Size of training data: {X_train.shape}\" )\n",
    "##\n",
    "## Do ANN (Multilayer Perceptron) classification\n",
    "## ===> Step 1: Instantiate the classifier <===\n",
    "##\n",
    "clf = MLPClassifier( random_state = rseed, max_iter = 300 )\n",
    "##\n",
    "## ===> Step 2: Fit the instantiated classifier <===\n",
    "##      Recommendation: number your fitted models\n",
    "##\n",
    "clf01 = clf.fit( X_train, y_train )\n",
    "##\n",
    "## ===> Step 3: Classify Test Cases <===\n",
    "##\n",
    "pred = clf01.predict_proba( X_test ) \n",
    "print( f\"Size of Predicted Probabilities for Testing Data: {pred.shape}\" )\n",
    "print( f\"Prediction Probabilities:\\n{np.around( pred[ :5 ], 3 )}\" )\n",
    "print( f\"Classifications:{clf.predict( X_test[ :5, : ] ) }\" )\n",
    "print( f\"Classification Score: {clf.score(X_test, y_test)}\" )"
   ]
  }
 ],
 "metadata": {
  "kernelspec": {
   "display_name": "Python 3",
   "language": "python",
   "name": "python3"
  },
  "language_info": {
   "codemirror_mode": {
    "name": "ipython",
    "version": 3
   },
   "file_extension": ".py",
   "mimetype": "text/x-python",
   "name": "python",
   "nbconvert_exporter": "python",
   "pygments_lexer": "ipython3",
   "version": "3.8.3"
  }
 },
 "nbformat": 4,
 "nbformat_minor": 4
}
